{
 "cells": [
  {
   "cell_type": "markdown",
   "metadata": {},
   "source": [
    "# Elements Of Data Processing - Week 1\n",
    "\n",
    "## Getting Started with Jupyter Notebook\n",
    "Jupyter notebook is an extremely useful tool for developing and presenting projects (particularly in python).  You can include code segments and view their output directly in your browser.  You can also add rich text, visualisations, equations and more.\n",
    "\n",
    "## Cells\n",
    "Jupyter notebook contains two main types of cells:\n",
    "- Markdown cells: These can be used to contain text, equations and other non-code items.  The cell that you're reading right now is a markdown cell.  You can use [Markdown](https://www.markdownguide.org/) to format your text.  If you prefer, you can also format your text using <b>HTML</b>.  Clicking the **Run** button will format and display your text.\n",
    "- Code cells: These contain code segments that can be executed individually.  When executed, the output of the code will be displayed below the code cell.  Click the **Run** button to execute a code segment.  You can also run a code segment by pressing `Ctrl + Enter`"
   ]
  },
  {
   "cell_type": "markdown",
   "metadata": {},
   "source": [
    "## Running Code\n",
    "Try running the code segments below and verify that the output is correct."
   ]
  },
  {
   "cell_type": "code",
   "execution_count": null,
   "metadata": {},
   "outputs": [],
   "source": [
    "message=\"hello world\"\n",
    "print(message)"
   ]
  },
  {
   "cell_type": "code",
   "execution_count": 1,
   "metadata": {},
   "outputs": [
    {
     "name": "stdout",
     "output_type": "stream",
     "text": [
      "0 squared is 0\n",
      "1 squared is 1\n",
      "2 squared is 4\n",
      "3 squared is 9\n",
      "4 squared is 16\n"
     ]
    }
   ],
   "source": [
    "for i in range(5):\n",
    "    print(str(i) + \" squared is \" + str(i*i))"
   ]
  },
  {
   "cell_type": "markdown",
   "metadata": {},
   "source": [
    "Variables are retained between code segments.  You can, for example, refer the message variable created in the code segment above"
   ]
  },
  {
   "cell_type": "code",
   "execution_count": 3,
   "metadata": {},
   "outputs": [
    {
     "name": "stdout",
     "output_type": "stream",
     "text": [
      "The COMP20008 team wishes to say: welcome\n"
     ]
    }
   ],
   "source": [
    "message = \"welcome\"\n",
    "print(\"The COMP20008 team wishes to say: \" + message)"
   ]
  },
  {
   "cell_type": "markdown",
   "metadata": {},
   "source": [
    "Try adding your own code cell below and use it to print a different message.  "
   ]
  },
  {
   "cell_type": "markdown",
   "metadata": {},
   "source": [
    "## Errors\n",
    "If your code contains any errors, the error message will be displayed underneath the code segment once it's run.  This helps you identify the problem and debug the code.  Try fixing the code below:"
   ]
  },
  {
   "cell_type": "code",
   "execution_count": 6,
   "metadata": {},
   "outputs": [
    {
     "ename": "SyntaxError",
     "evalue": "invalid syntax (<ipython-input-6-c53d639eb989>, line 4)",
     "output_type": "error",
     "traceback": [
      "\u001b[1;36m  File \u001b[1;32m\"<ipython-input-6-c53d639eb989>\"\u001b[1;36m, line \u001b[1;32m4\u001b[0m\n\u001b[1;33m    if students>25\u001b[0m\n\u001b[1;37m                  ^\u001b[0m\n\u001b[1;31mSyntaxError\u001b[0m\u001b[1;31m:\u001b[0m invalid syntax\n"
     ]
    }
   ],
   "source": [
    "print(\"Welcome to COMP20008\")\n",
    "print(\"We're glad you've chosen this subject\")\n",
    "students=30\n",
    "if students>25\n",
    "    print('This is a big class!')"
   ]
  },
  {
   "cell_type": "markdown",
   "metadata": {},
   "source": [
    "### Exercise 1\n",
    "Create a new code cell below this one.  Write a Python program that will print the first $n$ numbers of the Fibonacci sequence in **reverse** order.  Verify it works for $n=10$"
   ]
  },
  {
   "cell_type": "markdown",
   "metadata": {},
   "source": [
    "## Pandas\n",
    "Libraries contain useful resources, such as classes and subroutines, that you can use in your programs.\n",
    "\n",
    "Pansas is a library that contains high-level data structures and manipulation tools for faster analysis.  As with most libraries, an [API reference](https://pandas.pydata.org/pandas-docs/stable/reference/index.html) is available which details all of the functionality provided by pandas.  This lab will focus on the two most important data structures provided by pandas, the [Series](https://pandas.pydata.org/pandas-docs/stable/reference/series.html) and [Data Frame](https://pandas.pydata.org/pandas-docs/stable/reference/frame.html).\n",
    "\n",
    "It's worth reading through the [Intro to Data Strcutres](https://pandas.pydata.org/pandas-docs/stable/getting_started/dsintro.html) article on the pandas website to familiarise yourself with these two data structures.  There are also a number of step-by-step tutorials available online, such as [this one by DataCamp](https://www.datacamp.com/community/tutorials/pandas-tutorial-dataframe-python) that is worth following following."
   ]
  },
  {
   "cell_type": "code",
   "execution_count": null,
   "metadata": {},
   "outputs": [],
   "source": [
    "import pandas as pd"
   ]
  },
  {
   "cell_type": "markdown",
   "metadata": {},
   "source": [
    "### Series\n",
    "One-dimensional array-like object containing the array of data and an associated array of data labels called index.\n",
    "\n",
    "<img src=\"images/series1.jpg\">\n",
    "\n",
    "The basic method to create a Series:\n",
    "    \n",
    "    - s = Series(data, index=index)\n",
    "\n",
    "Here, data can be different things, including:\n",
    "    \n",
    "    - a list\n",
    "    - an array\n",
    "    - a dictionary"
   ]
  },
  {
   "cell_type": "markdown",
   "metadata": {},
   "source": [
    "#### Example 1 : Create a Basic Series Object"
   ]
  },
  {
   "cell_type": "code",
   "execution_count": null,
   "metadata": {},
   "outputs": [],
   "source": [
    "# series constructor with data as a list of integers\n",
    "\n",
    "l = [4,3,-5,9,1,7]\n",
    "s = pd.Series(l)"
   ]
  },
  {
   "cell_type": "code",
   "execution_count": null,
   "metadata": {},
   "outputs": [],
   "source": [
    "# the default indexing starts from zero\n",
    "s.index"
   ]
  },
  {
   "cell_type": "code",
   "execution_count": null,
   "metadata": {},
   "outputs": [],
   "source": [
    "# retrieve the values of the series\n",
    "s.values"
   ]
  },
  {
   "cell_type": "code",
   "execution_count": null,
   "metadata": {},
   "outputs": [],
   "source": [
    "# create your own index using lists\n",
    "newIndex = ['a','b','c','d','e','f']\n",
    "s.index  = newIndex"
   ]
  },
  {
   "cell_type": "code",
   "execution_count": null,
   "metadata": {},
   "outputs": [],
   "source": [
    "# verify the index\n",
    "s"
   ]
  },
  {
   "cell_type": "code",
   "execution_count": null,
   "metadata": {},
   "outputs": [],
   "source": [
    "# Creating a series from a python dict\n",
    "\n",
    "Aus_Emission = {'1990':15.45288167, '2000':17.20060983, '2007':17.86526004,\n",
    "                '2008':18.16087566,'2009':18.20018196,'2010':16.92095367,\n",
    "                '2011':16.86260095, '2012':16.51938578, '2013':16.34730205}\n",
    "\n",
    "co2_Emission = pd.Series(Aus_Emission)"
   ]
  },
  {
   "cell_type": "code",
   "execution_count": null,
   "metadata": {},
   "outputs": [],
   "source": [
    "# retrieve the values of the series\n",
    "co2_Emission.values"
   ]
  },
  {
   "cell_type": "code",
   "execution_count": null,
   "metadata": {},
   "outputs": [],
   "source": [
    "# verify the series object\n",
    "co2_Emission"
   ]
  },
  {
   "cell_type": "markdown",
   "metadata": {},
   "source": [
    "### Slicing\n",
    "Slicing allows you to take part of a Series or DataFrame, in order to visualise it separately or perform more detailed analysis.  You can **select** sections of list-like types (arrays, tuples, NumPy arrays) by using various slice notations:"
   ]
  },
  {
   "cell_type": "code",
   "execution_count": null,
   "metadata": {},
   "outputs": [],
   "source": [
    "# slicing the series using a boolean array operation \n",
    "co2_Emission[co2_Emission>16.0]"
   ]
  },
  {
   "cell_type": "code",
   "execution_count": null,
   "metadata": {},
   "outputs": [],
   "source": [
    "# slicing the series using a time period\n",
    "co2_Emission[:'2000']"
   ]
  },
  {
   "cell_type": "code",
   "execution_count": null,
   "metadata": {},
   "outputs": [],
   "source": [
    "# double the values of the series object\n",
    "doubled = co2_Emission*2\n",
    "doubled"
   ]
  },
  {
   "cell_type": "code",
   "execution_count": null,
   "metadata": {},
   "outputs": [],
   "source": [
    "# finding the average value of the series\n",
    "co2_Emission.mean()"
   ]
  },
  {
   "cell_type": "code",
   "execution_count": null,
   "metadata": {},
   "outputs": [],
   "source": [
    "# defining the column name\n",
    "co2_Emission.name = 'CO2 Emission'"
   ]
  },
  {
   "cell_type": "code",
   "execution_count": null,
   "metadata": {},
   "outputs": [],
   "source": [
    "# defining the name of the index\n",
    "co2_Emission.index.name = 'Year'"
   ]
  },
  {
   "cell_type": "code",
   "execution_count": null,
   "metadata": {},
   "outputs": [],
   "source": [
    "# verify the series object\n",
    "co2_Emission"
   ]
  },
  {
   "cell_type": "markdown",
   "metadata": {},
   "source": [
    "### Exercise 2\n",
    "\n",
    "Pandas Series objects have both <i>ndarray-like</i> and <i>dict-like properties</i>. Given the co2_Emission series object do the following:\n",
    "\n",
    "- Similar to the average of the series object, retrieve the maximum, median and cumulative sum of CO2 emission between  1960 to 2013 (max(), median() and cumsum() methods).\n",
    "\n",
    "\n",
    "- Retrieve the CO2 emissions in Australia between 2000 to 2010.\n",
    "- Given the population of Australia in 2013 is 23117353, retrieve the CO2 emission per capita for that year.\n",
    "\n"
   ]
  },
  {
   "cell_type": "code",
   "execution_count": null,
   "metadata": {},
   "outputs": [],
   "source": [
    "###answer here\n"
   ]
  },
  {
   "cell_type": "markdown",
   "metadata": {},
   "source": [
    "## Recommended Reading:\n",
    "[This article on Dataquest](https://www.dataquest.io/blog/jupyter-notebook-tutorial/) is an excellent introduction to Jupyter notebook.  If you haven't used Jupyter notebook before, I recommend familiarising yourself with it."
   ]
  },
  {
   "cell_type": "markdown",
   "metadata": {},
   "source": [
    "## Discussion questions \n",
    "- What is data science to you? \n",
    "- What makes it interesting? \n",
    "- What is meant by “Big Data”? What are its characteristics? \n",
    "- It has been claimed that wrangling data takes 80% of the time and the rest 20%. How can this be true, what specific activities cause wrangling to be so time consuming?\n"
   ]
  }
 ],
 "metadata": {
  "kernelspec": {
   "display_name": "Python 3",
   "language": "python",
   "name": "python3"
  },
  "language_info": {
   "codemirror_mode": {
    "name": "ipython",
    "version": 3
   },
   "file_extension": ".py",
   "mimetype": "text/x-python",
   "name": "python",
   "nbconvert_exporter": "python",
   "pygments_lexer": "ipython3",
   "version": "3.7.3"
  }
 },
 "nbformat": 4,
 "nbformat_minor": 2
}
