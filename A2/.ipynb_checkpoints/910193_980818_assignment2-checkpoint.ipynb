{
 "cells": [
  {
   "cell_type": "markdown",
   "metadata": {},
   "source": [
    "# Group members:\n",
    "    1. Full name:  Ngoc Thanh Van Tran    \n",
    "       Login name: NTRANNGOCTHA \n",
    "       Student ID: 980818\n",
    "    2. Full name: Edward (Ted) PHillip Shugg Marozzi\n",
    "       Login name: emarozzi\n",
    "       Student ID: 910193"
   ]
  },
  {
   "cell_type": "markdown",
   "metadata": {},
   "source": [
    "# Part 1 - Data Linkage"
   ]
  },
  {
   "cell_type": "markdown",
   "metadata": {},
   "source": [
    "## Naive data linkage without blocking"
   ]
  },
  {
   "cell_type": "code",
   "execution_count": 1,
   "metadata": {},
   "outputs": [],
   "source": [
    "# Imports\n",
    "import numpy as np\n",
    "import pandas as pd\n",
    "import textdistance\n",
    "from sklearn import preprocessing\n",
    "from scipy.spatial import distance\n",
    "from sklearn.model_selection import train_test_split\n",
    "from sklearn.neighbors import KNeighborsClassifier\n",
    "from sklearn.tree import DecisionTreeClassifier\n",
    "from sklearn.metrics import mutual_info_score\n",
    "from sklearn.cluster import KMeans\n",
    "import matplotlib.pyplot as plt\n",
    "\n",
    "SPECIAL_CHAR_REGEX = '\\s+[&\\(\\)=\\-\\+\\/]\\s*'\n",
    "\n",
    "# Load data\n",
    "df_amazon_small = pd.read_csv('./amazon_small.csv')\n",
    "df_google_small = pd.read_csv('./google_small.csv')\n",
    "\n",
    "# Pre-processing data, choose title/name-manufacturer as key for our data linkage algorithm\n",
    "df_amazon_small = df_amazon_small.replace(np.nan, '', regex=True)\n",
    "df_amazon_small['manufacturer'] = df_amazon_small['manufacturer'].str.replace(SPECIAL_CHAR_REGEX, ' ')\n",
    "df_amazon_small['manufacturer'] = df_amazon_small['manufacturer'].str.lower()\n",
    "df_amazon_small['title'] = df_amazon_small['title'].str.replace(SPECIAL_CHAR_REGEX, ' ')\n",
    "df_amazon_small['title'] = df_amazon_small['title'].str.lower()\n",
    "\n",
    "df_google_small = df_google_small.replace(np.nan, '', regex=True)\n",
    "df_google_small['manufacturer'] = df_google_small['manufacturer'].str.replace(SPECIAL_CHAR_REGEX, ' ')\n",
    "df_google_small['manufacturer'] = df_google_small['manufacturer'].str.lower()\n",
    "df_google_small['name'] = df_google_small['name'].str.replace(SPECIAL_CHAR_REGEX, ' ')\n",
    "df_google_small['name'] = df_google_small['name'].str.lower()"
   ]
  },
  {
   "cell_type": "markdown",
   "metadata": {},
   "source": [
    "### Generate matches"
   ]
  },
  {
   "cell_type": "code",
   "execution_count": 2,
   "metadata": {},
   "outputs": [
    {
     "name": "stdout",
     "output_type": "stream",
     "text": [
      "Amazon records:  148\n",
      "Google records:  150\n",
      "Total pairs: 22200 = 148 x 150\n"
     ]
    },
    {
     "data": {
      "text/html": [
       "<div>\n",
       "<style scoped>\n",
       "    .dataframe tbody tr th:only-of-type {\n",
       "        vertical-align: middle;\n",
       "    }\n",
       "\n",
       "    .dataframe tbody tr th {\n",
       "        vertical-align: top;\n",
       "    }\n",
       "\n",
       "    .dataframe thead th {\n",
       "        text-align: right;\n",
       "    }\n",
       "</style>\n",
       "<table border=\"1\" class=\"dataframe\">\n",
       "  <thead>\n",
       "    <tr style=\"text-align: right;\">\n",
       "      <th></th>\n",
       "      <th>idAmazon</th>\n",
       "      <th>idGoogleBase</th>\n",
       "    </tr>\n",
       "  </thead>\n",
       "  <tbody>\n",
       "    <tr>\n",
       "      <th>0</th>\n",
       "      <td>b0002itt84</td>\n",
       "      <td>http://www.google.com/base/feeds/snippets/1329...</td>\n",
       "    </tr>\n",
       "    <tr>\n",
       "      <th>1</th>\n",
       "      <td>b0002itt84</td>\n",
       "      <td>http://www.google.com/base/feeds/snippets/1693...</td>\n",
       "    </tr>\n",
       "    <tr>\n",
       "      <th>2</th>\n",
       "      <td>b0002itt84</td>\n",
       "      <td>http://www.google.com/base/feeds/snippets/4998...</td>\n",
       "    </tr>\n",
       "    <tr>\n",
       "      <th>3</th>\n",
       "      <td>b0002itt84</td>\n",
       "      <td>http://www.google.com/base/feeds/snippets/1695...</td>\n",
       "    </tr>\n",
       "    <tr>\n",
       "      <th>4</th>\n",
       "      <td>b0002itt84</td>\n",
       "      <td>http://www.google.com/base/feeds/snippets/1574...</td>\n",
       "    </tr>\n",
       "  </tbody>\n",
       "</table>\n",
       "</div>"
      ],
      "text/plain": [
       "     idAmazon                                       idGoogleBase\n",
       "0  b0002itt84  http://www.google.com/base/feeds/snippets/1329...\n",
       "1  b0002itt84  http://www.google.com/base/feeds/snippets/1693...\n",
       "2  b0002itt84  http://www.google.com/base/feeds/snippets/4998...\n",
       "3  b0002itt84  http://www.google.com/base/feeds/snippets/1695...\n",
       "4  b0002itt84  http://www.google.com/base/feeds/snippets/1574..."
      ]
     },
     "execution_count": 2,
     "metadata": {},
     "output_type": "execute_result"
    }
   ],
   "source": [
    "def calculate_distance(df_amazon, df_google):\n",
    "    '''\n",
    "    Use Jaro-Winkler text distance algorithm to combine manufacturer-title from amazon and \n",
    "    manufacturer-name from google to attempt data linkage to return the matched ids DataFrame.\n",
    "    '''\n",
    "    matched_list = []\n",
    "    jaro_winkler = textdistance.JaroWinkler()\n",
    "    \n",
    "    for idx1, amazon_row in df_amazon.iterrows():\n",
    "        amazon_str = str(amazon_row['manufacturer']) + ' ' + str(amazon_row['title'])\n",
    "        \n",
    "        for idx2, google_row in df_google.iterrows():\n",
    "            google_str = str(google_row['manufacturer']) + ' ' + str(google_row['name'])\n",
    "            matched_list.append([amazon_row['idAmazon'], google_row['idGoogleBase'], jaro_winkler(amazon_str, google_str)])\n",
    "    \n",
    "    return pd.DataFrame(matched_list, columns=['idAmazon', 'idGoogleBase', 'distance'])\n",
    "\n",
    "df_distance = calculate_distance(df_amazon_small, df_google_small)\n",
    "\n",
    "print('Amazon records: ', df_amazon_small.shape[0])\n",
    "print('Google records: ', df_google_small.shape[0])\n",
    "print('Total pairs:', df_distance.shape[0], '= 148 x 150')\n",
    "\n",
    "df_distance.drop(columns=['distance']).head()"
   ]
  },
  {
   "cell_type": "markdown",
   "metadata": {},
   "source": [
    "#### Discussion on linkage method: choice of similarity functions\n",
    "It is possible to construct a linkage key, which acts as a proxy for the unique identifier. In this case, our linkage key is title/name-manufacturer from the two data sets amazon_small.csv and google_small.csv, which also improves privacy preservation. Since our identifiers are string typed, we should choose an appropriate string similarity function. \n",
    "\n",
    "Here, Jaro-Winkler edit-distance similarity algorithm is applied to measure a normalized score on the similarity between two strings. This algorithm is mainly developed for record linkage process and it was designed to calculate the similarity for short strings, which is quite suitable for our data. The computation is based on the number of matching characters held within the string and the number of transpositions.\n",
    "\n",
    "Therefore, our method calculate the distance similarity (through Jaro-Winkler) of a combined manufacturer-name/title feature, if it is above a certain threshold, then the record pair is considered a match. This naive data linkage without blocking gives a large base for comparision, which is exactly the product of the 2 matching data size (148 x 150 = 22200). This is considered to be quite inefficient when working with large data."
   ]
  },
  {
   "cell_type": "markdown",
   "metadata": {},
   "source": [
    "### Calculate performance measures"
   ]
  },
  {
   "cell_type": "code",
   "execution_count": 3,
   "metadata": {},
   "outputs": [
    {
     "name": "stdout",
     "output_type": "stream",
     "text": [
      "Recall = 0.5692307692307692\n",
      "Precision = 0.524822695035461\n"
     ]
    }
   ],
   "source": [
    "df_ground_truth_small = pd.read_csv('./amazon_google_truth_small.csv')\n",
    "\n",
    "def performance_eval(df_ground_truth, df_distance, threshold = 0.71): # This default threshold will be explained in the following part\n",
    "    \"\"\"\n",
    "    Measure performance based on the ground truth and calculated distance\n",
    "    \"\"\"\n",
    "    df_matched = df_distance[df_distance['distance'] >= threshold]\n",
    "    df_matched = df_matched.drop(columns=['distance'])\n",
    "\n",
    "    # Find true positive (presents in both df_matched and df_ground_truth)\n",
    "    df_tp = pd.merge(df_matched, df_ground_truth, how='inner')\n",
    "    tp = df_tp.shape[0]\n",
    "    \n",
    "    # Find false positive (presents in df_matched, but not in df_ground_truth)\n",
    "    df_fp = pd.merge(df_matched, df_ground_truth, indicator=True, how='outer').query('_merge==\"left_only\"').drop('_merge', axis=1)    \n",
    "    fp = df_fp.shape[0]\n",
    "    \n",
    "    # Find false negative (not presents in df_matched, but in df_ground_truth)\n",
    "    df_fn = pd.merge(df_ground_truth, df_matched, indicator=True, how='outer').query('_merge==\"left_only\"').drop('_merge', axis=1)\n",
    "    fn = df_fn.shape[0]\n",
    "    \n",
    "    recall = tp / (tp + fn)\n",
    "    precision = tp / (tp + fp)\n",
    "    F1 = 2*(recall*precision)/(recall+precision)\n",
    "    return [recall, precision, F1]\n",
    "\n",
    "performance = performance_eval(df_ground_truth_small, df_distance)\n",
    "print('Recall =', performance[0])\n",
    "print('Precision =', performance[1])"
   ]
  },
  {
   "cell_type": "markdown",
   "metadata": {},
   "source": [
    "#### Discussion on the linkage performance: final scoring function and threshold\n",
    "The two performance measures with threshold of 0.71 gives: \n",
    "\n",
    "i) Recall = 0.5692307692307692\n",
    "\n",
    "Recall is the fraction of relevant instances that have been retrieved over the total amount of relevant instances, that is proportion of correct matches (presents in both df_matched and df_ground_truth) over the ground truth (presents in df_ground_truth).\n",
    "\n",
    "ii) Precision = 0.524822695035461\n",
    "\n",
    "Precision is the fraction of relevant instances among the retrieved instances, that is proportion of correct matches (presents in both df_matched and df_ground_truth) over all matches (presents in df_matched). \n",
    "\n",
    "There is a tradeoff between these 2 measurements so it is not possible to maximise both metrics (illustrated in the graph below). In order to maximise recall, we need to keep generating results which are not accurate; hence, this results in lower precision and vice versa when we try to maximise precision. Alternatively, we can use F1 score, the harmonic mean of the precision and recall, to identify the appropriate threshold which is 0.71. This threshold balances both precision and recall value and results in the corresponding measures calculated above."
   ]
  },
  {
   "cell_type": "markdown",
   "metadata": {},
   "source": [
    "### Graph illustrating changes in performance measures (this part may take a while...)"
   ]
  },
  {
   "cell_type": "code",
   "execution_count": 4,
   "metadata": {},
   "outputs": [
    {
     "name": "stdout",
     "output_type": "stream",
     "text": [
      "Processed 0 records...\n",
      "Processed 100 records...\n",
      "Processed 200 records...\n",
      "Processed 300 records...\n"
     ]
    },
    {
     "data": {
      "text/plain": [
       "<matplotlib.axes._subplots.AxesSubplot at 0x1a1bbf6748>"
      ]
     },
     "execution_count": 4,
     "metadata": {},
     "output_type": "execute_result"
    },
    {
     "data": {
      "image/png": "[encoded data removed]",
      "text/plain": [
       "<Figure size 432x288 with 1 Axes>"
      ]
     },
     "metadata": {
      "needs_background": "light"
     },
     "output_type": "display_data"
    }
   ],
   "source": [
    "data = []\n",
    "index = []\n",
    "for i in range(400):\n",
    "    index.append(0.5 + i / 1000)\n",
    "    if (i % 100 == 0):\n",
    "        print('Processed', i, 'records...')\n",
    "    data.append(performance_eval(df_ground_truth_small, df_distance, 0.5 + i / 1000))\n",
    "\n",
    "df_graph = pd.DataFrame(data=data, columns=['Recall', 'Precision', 'F1'], index=index)\n",
    "df_graph.plot()"
   ]
  },
  {
   "cell_type": "markdown",
   "metadata": {},
   "source": [
    "### Choosing threshold"
   ]
  },
  {
   "cell_type": "code",
   "execution_count": 5,
   "metadata": {},
   "outputs": [
    {
     "name": "stdout",
     "output_type": "stream",
     "text": [
      "Threshold of 0.71 maximises F1.\n"
     ]
    }
   ],
   "source": [
    "F1_list = [data[i][2] for i in range(len(data)-1)]\n",
    "print('Threshold of', 0.5 + F1_list.index(max(F1_list))/1000, 'maximises F1.')"
   ]
  },
  {
   "cell_type": "markdown",
   "metadata": {},
   "source": [
    "#### Overall performance:\n",
    "This naive data linkage without blocking gives a large number of comparisions because we need to compare each entry in amazon_small.csv and google_small.csv and not seems to be very efficient. When we choose to balanced out recall and precision with threshold of 0.71, we get roughly very low values for both performance measures."
   ]
  },
  {
   "cell_type": "markdown",
   "metadata": {},
   "source": [
    "## Blocking for efficient data linkage"
   ]
  },
  {
   "cell_type": "code",
   "execution_count": 6,
   "metadata": {},
   "outputs": [
    {
     "name": "stdout",
     "output_type": "stream",
     "text": [
      "Amazon records: 1363\n",
      "Google records: 3226\n",
      "Total number of all possible record pairs from the two data sets: 4397038\n"
     ]
    }
   ],
   "source": [
    "# Load data\n",
    "df_amazon = pd.read_csv('./amazon.csv')\n",
    "df_google = pd.read_csv('./google.csv')\n",
    "\n",
    "# Pre-processing data, choose title/name and manufacturer as 2 identifiers for our data linkage algorithm\n",
    "df_amazon = df_amazon.replace(np.nan, '', regex=True)\n",
    "df_amazon['manufacturer'] = df_amazon['manufacturer'].str.replace(SPECIAL_CHAR_REGEX, ' ')\n",
    "df_amazon['manufacturer'] = df_amazon['manufacturer'].str.lower()\n",
    "df_amazon['title'] = df_amazon['title'].str.replace(SPECIAL_CHAR_REGEX, ' ')\n",
    "df_amazon['title'] = df_amazon['title'].str.lower()\n",
    "\n",
    "df_google = df_google.replace(np.nan, '', regex=True)\n",
    "df_google['manufacturer'] = df_google['manufacturer'].str.replace(SPECIAL_CHAR_REGEX, ' ')\n",
    "df_google['manufacturer'] = df_google['manufacturer'].str.lower()\n",
    "df_google['name'] = df_google['name'].str.replace(SPECIAL_CHAR_REGEX, ' ')\n",
    "df_google['name'] = df_google['name'].str.lower()\n",
    "\n",
    "print('Amazon records:', df_amazon.shape[0])\n",
    "print('Google records:', df_google.shape[0])\n",
    "total_pairs = df_amazon.shape[0]*df_google.shape[0]\n",
    "print('Total number of all possible record pairs from the two data sets:', total_pairs)"
   ]
  },
  {
   "cell_type": "markdown",
   "metadata": {},
   "source": [
    "### Generate blocks"
   ]
  },
  {
   "cell_type": "code",
   "execution_count": 7,
   "metadata": {},
   "outputs": [
    {
     "name": "stdout",
     "output_type": "stream",
     "text": [
      "(13881, 3)\n"
     ]
    },
    {
     "data": {
      "text/html": [
       "<div>\n",
       "<style scoped>\n",
       "    .dataframe tbody tr th:only-of-type {\n",
       "        vertical-align: middle;\n",
       "    }\n",
       "\n",
       "    .dataframe tbody tr th {\n",
       "        vertical-align: top;\n",
       "    }\n",
       "\n",
       "    .dataframe thead th {\n",
       "        text-align: right;\n",
       "    }\n",
       "</style>\n",
       "<table border=\"1\" class=\"dataframe\">\n",
       "  <thead>\n",
       "    <tr style=\"text-align: right;\">\n",
       "      <th></th>\n",
       "      <th>block_id</th>\n",
       "      <th>id</th>\n",
       "      <th>type</th>\n",
       "    </tr>\n",
       "  </thead>\n",
       "  <tbody>\n",
       "    <tr>\n",
       "      <th>0</th>\n",
       "      <td>broderbund clickart</td>\n",
       "      <td>b000jz4hqo</td>\n",
       "      <td>amazon</td>\n",
       "    </tr>\n",
       "    <tr>\n",
       "      <th>1</th>\n",
       "      <td>000 premier</td>\n",
       "      <td>b000jz4hqo</td>\n",
       "      <td>amazon</td>\n",
       "    </tr>\n",
       "    <tr>\n",
       "      <th>2</th>\n",
       "      <td>pack dvd-rom)</td>\n",
       "      <td>b000jz4hqo</td>\n",
       "      <td>amazon</td>\n",
       "    </tr>\n",
       "    <tr>\n",
       "      <th>3</th>\n",
       "      <td>computer associates</td>\n",
       "      <td>b0006zf55o</td>\n",
       "      <td>amazon</td>\n",
       "    </tr>\n",
       "    <tr>\n",
       "      <th>4</th>\n",
       "      <td>international arcserve</td>\n",
       "      <td>b0006zf55o</td>\n",
       "      <td>amazon</td>\n",
       "    </tr>\n",
       "  </tbody>\n",
       "</table>\n",
       "</div>"
      ],
      "text/plain": [
       "                 block_id          id    type\n",
       "0     broderbund clickart  b000jz4hqo  amazon\n",
       "1             000 premier  b000jz4hqo  amazon\n",
       "2           pack dvd-rom)  b000jz4hqo  amazon\n",
       "3     computer associates  b0006zf55o  amazon\n",
       "4  international arcserve  b0006zf55o  amazon"
      ]
     },
     "execution_count": 7,
     "metadata": {},
     "output_type": "execute_result"
    }
   ],
   "source": [
    "def render_blocks(df_amazon, df_google, word_limit = 2): # using n-words\n",
    "    \"\"\"\n",
    "    Render a list of ids and its corresponding block id, \n",
    "    we utilize blocking on manufacturer-title and manufacturer-name\n",
    "    \"\"\"\n",
    "    \n",
    "    block_list = []\n",
    "    # put amazon id into blocks\n",
    "    for idx, amazon_row in df_amazon.iterrows():\n",
    "        amazon_str = str(amazon_row['manufacturer']) + ' ' + str(amazon_row['title'])\n",
    "        block_id = ''\n",
    "        word_count = 0\n",
    "        for word in amazon_str.split():\n",
    "            if (word.strip() == ''):\n",
    "                continue\n",
    "                \n",
    "            if (word_count < word_limit):\n",
    "                block_id = block_id + ' ' + word\n",
    "                word_count += 1\n",
    "            else:\n",
    "                block_list.append([block_id.strip(), amazon_row['idAmazon'], 'amazon'])                    \n",
    "                block_id = ''\n",
    "                word_count = 0\n",
    "                \n",
    "        # put the record into the last block_id\n",
    "        if block_id != '':\n",
    "            block_list.append([block_id.strip(), amazon_row['idAmazon'], 'amazon'])\n",
    "                    \n",
    "    # put google id into blocks\n",
    "    for idx, google_row in df_google.iterrows():\n",
    "        google_str = str(google_row['manufacturer']) + ' ' + str(google_row['name'])\n",
    "        block_id = ''\n",
    "        word_count = 0\n",
    "        for word in google_str.split():\n",
    "            if (word.strip() == ''):\n",
    "                continue\n",
    "                \n",
    "            if (word_count < word_limit):\n",
    "                block_id = block_id + ' ' + word\n",
    "                word_count += 1\n",
    "            else:\n",
    "                block_list.append([block_id.strip(), google_row['id'], 'google'])\n",
    "                block_id = ''\n",
    "                word_count = 0\n",
    "                \n",
    "        # put the record into the last block_id\n",
    "        if block_id != '':\n",
    "            block_list.append([block_id.strip(), google_row['id'], 'google'])\n",
    "    \n",
    "    return pd.DataFrame(block_list, columns=['block_id', 'id', 'type'])\n",
    "\n",
    "df_blocks = render_blocks(df_amazon, df_google)\n",
    "print(df_blocks.shape)\n",
    "df_blocks.head()"
   ]
  },
  {
   "cell_type": "markdown",
   "metadata": {},
   "source": [
    "#### Choices of blocking method: \n",
    "Our algorithm still choose title/name-manufacturer as linkage key for simplicity from the two complete data sets amazon.csv and google.csv. For these large data, naive data linkage would create a very big number of comparisions, making it costly and inefficient. Hence, a blocking method is applied to break down n-word (we use n = 2 as default) for the block_id. Then we implement data linkage through block_id instead of each id alone from the 2 data sets. "
   ]
  },
  {
   "cell_type": "markdown",
   "metadata": {},
   "source": [
    "### Calculate quality measures"
   ]
  },
  {
   "cell_type": "code",
   "execution_count": 8,
   "metadata": {},
   "outputs": [
    {
     "name": "stdout",
     "output_type": "stream",
     "text": [
      "Pair Completeness = 0.39\n",
      "Reduction Ratio = 0.9998846951061147\n"
     ]
    }
   ],
   "source": [
    "df_truth = pd.read_csv('./amazon_google_truth.csv')\n",
    "\n",
    "def is_in_same_block(df_blocks, amazon_id, google_id):\n",
    "    \"\"\"\n",
    "    Check if a pair of amazon_id and google_id from the ground truth set is also belong to at least a block.\n",
    "    \"\"\"\n",
    "    amazon_blocks = list(df_blocks[df_blocks['id'] == amazon_id]['block_id']) # All block_id in df_amazon_block, which has id also in amazon_id\n",
    "    google_blocks = list(df_blocks[df_blocks['id'] == google_id]['block_id']) # All block_id in df_google_block, which has id also in google_id\n",
    "    return len(list(set(amazon_blocks) & set(google_blocks))) > 0 \n",
    "\n",
    "def block_performance_eval(df_blocks, df_truth):\n",
    "    \"\"\"\n",
    "    Calculate Pair Completeness and Reduction Ratio.\n",
    "    \"\"\"\n",
    "    # Calculate true-positive and false-negative\n",
    "    tp = fn = 0 \n",
    "    for idx, row in df_truth.iterrows():\n",
    "        if (is_in_same_block(df_blocks, row['idAmazon'], row['idGoogleBase'])):\n",
    "            tp += 1\n",
    "        else:\n",
    "            fn += 1\n",
    "    \n",
    "    # calculate false-positive\n",
    "    fp = 0\n",
    "    block_list = list(set(df_blocks['block_id']))\n",
    "    \n",
    "    for block in block_list:\n",
    "        ids = df_blocks[df_blocks['block_id'] == block]\n",
    "        if (ids.shape[0] == 1):\n",
    "            # ignore all blocks that only has 1 member\n",
    "            continue\n",
    "            \n",
    "        amazon_ids = list(set(ids[ids['type'] == 'amazon']['id']))\n",
    "        google_ids = list(set(ids[ids['type'] == 'google']['id']))\n",
    "        for i in amazon_ids:\n",
    "            if df_truth[df_truth['idAmazon'] == i] is None:\n",
    "                # no matches for idAmazon in truth, but found in blocks\n",
    "                # we count all google ids, since they will not be found in the ground truth as a pair with idAmazon\n",
    "                fp += len(google_ids)\n",
    "                continue\n",
    "                \n",
    "                for j in google_ids:\n",
    "                    amazon_blocks = df_truth[df_truth['idAmazon'] == i]\n",
    "                    if amazon_blocks[amazon_blocks['idGoogleBase'] == j] is None:\n",
    "                        # the pair exists, but not with the same google id\n",
    "                        fp += 1\n",
    "                        \n",
    "    tn = total_pairs - tp - fn - fp\n",
    "    pair_completeness = tp / (tp + fn)\n",
    "    reduction_ratio = 1 - (tp + fp) / total_pairs\n",
    "    return [pair_completeness, reduction_ratio]\n",
    "\n",
    "    \n",
    "block_performance = block_performance_eval(df_blocks, df_truth)\n",
    "print('Pair Completeness =', block_performance[0])\n",
    "print('Reduction Ratio =', block_performance[1])"
   ]
  },
  {
   "cell_type": "markdown",
   "metadata": {},
   "source": [
    "#### Discussion on the linkage quality: final scoring function and threshold\n",
    "The two quality measures with n-words blocking method: \n",
    "\n",
    "i) Pair Completeness = 0.39\n",
    "\n",
    "Pair Completeness is the proportion of correctly classified truly matched record pairs in the blocked comparison space over the total number of true matches.\n",
    "\n",
    "ii) Reduction Ratio = 0.9998846951061147\n",
    "\n",
    "Reduction Ratio quantifies how well the current blocking scheme minimizes the number of candidates, without taking into account the quality of the reduction. That is the proportion of record pairs not produced by blocking algorithm (i.e. the number of record pairs removed by blocking).\n",
    "\n",
    "There is a tradeoff between these 2 measurements so it is not possible to maximise both metrics (illustrated in the graph below). In this case, reduction ratio increases (> 0.99) and pair completeness decreases (<0.39) when applying n-words blocking method, for n increasing from 0 to 10. We agree that choosing n = 2 is acceptable as it favours both measurements."
   ]
  },
  {
   "cell_type": "markdown",
   "metadata": {},
   "source": [
    "### Graph illustrating changes in quality measures (this part may take a while...)"
   ]
  },
  {
   "cell_type": "code",
   "execution_count": 25,
   "metadata": {},
   "outputs": [
    {
     "name": "stdout",
     "output_type": "stream",
     "text": [
      "Processing 0-words...\n",
      "Processing 1-words...\n",
      "Processing 2-words...\n",
      "Processing 3-words...\n",
      "Processing 4-words...\n",
      "Processing 5-words...\n",
      "Processing 6-words...\n",
      "Processing 7-words...\n",
      "Processing 8-words...\n",
      "Processing 9-words...\n",
      "Processing 10-words...\n"
     ]
    },
    {
     "data": {
      "text/plain": [
       "<matplotlib.axes._subplots.AxesSubplot at 0x1a1c80e3c8>"
      ]
     },
     "execution_count": 25,
     "metadata": {},
     "output_type": "execute_result"
    },
    {
     "data": {
      "image/png": "[encoded data removed]",
      "text/plain": [
       "<Figure size 432x288 with 1 Axes>"
      ]
     },
     "metadata": {
      "needs_background": "light"
     },
     "output_type": "display_data"
    },
    {
     "data": {
      "image/png": "[encoded data removed]",
      "text/plain": [
       "<Figure size 432x288 with 1 Axes>"
      ]
     },
     "metadata": {
      "needs_background": "light"
     },
     "output_type": "display_data"
    }
   ],
   "source": [
    "data_pc = []\n",
    "data_rr = []\n",
    "graph_data_pc = []\n",
    "graph_data_rr = []\n",
    "index_ = []\n",
    "for i in range(11):\n",
    "    word_limit = i\n",
    "    print('Processing ' + str(word_limit) + '-words...')\n",
    "    index_.append(word_limit)\n",
    "    \n",
    "    df_blocks = render_blocks(df_amazon, df_google, word_limit = word_limit)\n",
    "    graph_data_pc.append(block_performance_eval(df_blocks, df_truth)[0])\n",
    "    graph_data_rr.append(block_performance_eval(df_blocks, df_truth)[1])\n",
    "    \n",
    "df_graph_pc = pd.DataFrame(data=graph_data_pc, columns=['Pair Completeness'], index=index_)\n",
    "df_graph_rr = pd.DataFrame(data=graph_data_rr, columns=['Reduction Ratio'], index=index_)\n",
    "df_graph_pc.plot()\n",
    "df_graph_rr.plot()"
   ]
  },
  {
   "cell_type": "markdown",
   "metadata": {},
   "source": [
    "# Part 2 - Classification"
   ]
  },
  {
   "cell_type": "markdown",
   "metadata": {},
   "source": [
    "## Pre-processing"
   ]
  },
  {
   "cell_type": "code",
   "execution_count": 1,
   "metadata": {},
   "outputs": [
    {
     "ename": "NameError",
     "evalue": "name 'pd' is not defined",
     "output_type": "error",
     "traceback": [
      "\u001b[1;31m---------------------------------------------------------------------------\u001b[0m",
      "\u001b[1;31mNameError\u001b[0m                                 Traceback (most recent call last)",
      "\u001b[1;32m<ipython-input-1-77da44748d68>\u001b[0m in \u001b[0;36m<module>\u001b[1;34m\u001b[0m\n\u001b[0;32m      1\u001b[0m \u001b[1;31m# Load data\u001b[0m\u001b[1;33m\u001b[0m\u001b[1;33m\u001b[0m\u001b[1;33m\u001b[0m\u001b[0m\n\u001b[1;32m----> 2\u001b[1;33m \u001b[0myeast\u001b[0m \u001b[1;33m=\u001b[0m \u001b[0mpd\u001b[0m\u001b[1;33m.\u001b[0m\u001b[0mread_csv\u001b[0m\u001b[1;33m(\u001b[0m\u001b[1;34m\"all_yeast.csv\"\u001b[0m\u001b[1;33m)\u001b[0m\u001b[1;33m\u001b[0m\u001b[1;33m\u001b[0m\u001b[0m\n\u001b[0m",
      "\u001b[1;31mNameError\u001b[0m: name 'pd' is not defined"
     ]
    }
   ],
   "source": [
    "# Load data\n",
    "# Imports\n",
    "import numpy as np\n",
    "import pandas as pd\n",
    "import textdistance\n",
    "from sklearn import preprocessing\n",
    "from scipy.spatial import distance\n",
    "from sklearn.model_selection import train_test_split\n",
    "from sklearn.neighbors import KNeighborsClassifier\n",
    "from sklearn.tree import DecisionTreeClassifier\n",
    "from sklearn.metrics import mutual_info_score\n",
    "from sklearn.cluster import KMeans\n",
    "import matplotlib.pyplot as plt\n",
    "yeast = pd.read_csv(\"all_yeast.csv\")"
   ]
  },
  {
   "cell_type": "code",
   "execution_count": null,
   "metadata": {},
   "outputs": [],
   "source": [
    "def print_df_meta(col):\n",
    "\n",
    "    print(col_name)\n",
    "    print(\"Min:\", col.min())\n",
    "    print(\"Median:\", col.median())\n",
    "    print(\"Max:\", col.max())\n",
    "    print(\"Mean:\", col.mean())\n",
    "    print(\"Std:\", col.std())\n",
    "    print(\"\")"
   ]
  },
  {
   "cell_type": "markdown",
   "metadata": {},
   "source": [
    "### Impute missing values"
   ]
  },
  {
   "cell_type": "code",
   "execution_count": null,
   "metadata": {},
   "outputs": [],
   "source": [
    "# Interating through all columns\n",
    "for col_name in yeast:\n",
    "    \n",
    "    col = yeast[col_name]\n",
    "    \n",
    "    # If the column contains any null values then replace with the median\n",
    "    if col.isnull().values.any() == True:\n",
    "        yeast[col_name] = col.fillna(col.median())\n",
    "        print_df_meta(col)"
   ]
  },
  {
   "cell_type": "markdown",
   "metadata": {},
   "source": [
    "#### Choice of imputation method: \n",
    "The median imputation method is more suitable as it is not unaffected by skewed data as much as the mean imputation method."
   ]
  },
  {
   "cell_type": "markdown",
   "metadata": {},
   "source": [
    "### Scale the features"
   ]
  },
  {
   "cell_type": "markdown",
   "metadata": {},
   "source": [
    "#### 1) Mean centering"
   ]
  },
  {
   "cell_type": "code",
   "execution_count": null,
   "metadata": {},
   "outputs": [],
   "source": [
    "# Extract all numerical data features\n",
    "yeast_num = yeast[['mcg','gvh','alm','mit','erl','pox','vac','nuc']]\n",
    "\n",
    "# Scaling by mean centering\n",
    "yeast_num_centered = yeast_num.subtract(yeast_num.mean())\n",
    "\n",
    "# Re-print the meta data showing the mean centered data \n",
    "for col_name in yeast_num_centered:\n",
    "    col = yeast_num_centered[col_name]\n",
    "    print_df_meta(col)"
   ]
  },
  {
   "cell_type": "markdown",
   "metadata": {},
   "source": [
    "#### 2) Standardisation"
   ]
  },
  {
   "cell_type": "code",
   "execution_count": null,
   "metadata": {},
   "outputs": [],
   "source": [
    "# Scale by Z score Standardisation\n",
    "scaler = preprocessing.StandardScaler()\n",
    "scaled_df = scaler.fit_transform(yeast_num)\n",
    "scaled_df = pd.DataFrame(scaled_df, columns=yeast_num.columns)\n",
    "\n",
    "# Print meta data\n",
    "for col_name in scaled_df:\n",
    "    col = scaled_df[col_name]\n",
    "    print_df_meta(col)"
   ]
  },
  {
   "cell_type": "markdown",
   "metadata": {},
   "source": [
    "#### Choice of scaling method:\n",
    "It is preferable to use mean centering because it gives closer measurements with smaller standard deviation comparing to using standardisation."
   ]
  },
  {
   "cell_type": "markdown",
   "metadata": {},
   "source": [
    "## Comparing Classifcation Algorithms"
   ]
  },
  {
   "cell_type": "markdown",
   "metadata": {},
   "source": [
    "#### Prepare the test and training data"
   ]
  },
  {
   "cell_type": "code",
   "execution_count": null,
   "metadata": {},
   "outputs": [],
   "source": [
    "# Replace traget values with boolean values\n",
    "target_values = yeast['Class']\n",
    "target_values = target_values.replace('CYT', 1)\n",
    "target_values = target_values.replace('non-CYT', 0)\\\n",
    "# Create random seed to be used throughout the program\n",
    "rand = 792\n",
    "\n",
    "#split dataset into train and test data\n",
    "X_train, X_test, y_train, y_test = train_test_split(yeast_num_centered, \n",
    "    target_values, test_size=1/3, random_state=rand)"
   ]
  },
  {
   "cell_type": "markdown",
   "metadata": {},
   "source": [
    "#### 1) K nearest neighbours for k = 5 neighbours"
   ]
  },
  {
   "cell_type": "code",
   "execution_count": null,
   "metadata": {},
   "outputs": [],
   "source": [
    "# Create KNN classifier\n",
    "knn = KNeighborsClassifier(n_neighbors = 5)\n",
    "\n",
    "# Fit the classifier to the data\n",
    "knn.fit(X_train,y_train)\n",
    "\n",
    "# Print accuracy of k-nn for k = 5\n",
    "print(\"Accuracy of \" + str(knn.score(X_test, y_test)*100) + \"%\")"
   ]
  },
  {
   "cell_type": "markdown",
   "metadata": {},
   "source": [
    "#### 2) K nearest neighbours for k = 10 neighbours"
   ]
  },
  {
   "cell_type": "code",
   "execution_count": null,
   "metadata": {},
   "outputs": [],
   "source": [
    "# Create KNN classifier\n",
    "knn = KNeighborsClassifier(n_neighbors = 10)\n",
    "# Fit the classifier to the data\n",
    "knn.fit(X_train,y_train)\n",
    "\n",
    "# Print accuracy of k-nn for k = 10\n",
    "print(\"Accuracy of \" + str(knn.score(X_test, y_test)*100) + \"%\")"
   ]
  },
  {
   "cell_type": "markdown",
   "metadata": {},
   "source": [
    "#### 3) Decision tree classifier"
   ]
  },
  {
   "cell_type": "code",
   "execution_count": null,
   "metadata": {},
   "outputs": [],
   "source": [
    "# Create the classifier with rand state\n",
    "classifier = DecisionTreeClassifier(criterion=\"entropy\",\n",
    "                                   random_state=rand)\n",
    "# Fit the training data to the classifier\n",
    "classifier.fit(X_train, y_train)\n",
    "# Print accuracy of decision tree classifier\n",
    "print(\"Accuracy of \" + str(classifier.score(X_test, y_test)*100) + \"%\")"
   ]
  },
  {
   "cell_type": "markdown",
   "metadata": {},
   "source": [
    "#### Conclusion:\n",
    "10 nearest neighbours has highest accuracy of 68.2828% while decision tree classifier gives the lowest 64.848%"
   ]
  },
  {
   "cell_type": "markdown",
   "metadata": {},
   "source": [
    "## Feature Engineering\n",
    "**K-Means feature**"
   ]
  },
  {
   "cell_type": "code",
   "execution_count": null,
   "metadata": {},
   "outputs": [],
   "source": [
    "# Performing kmeans for 1 to 15 clusters\n",
    "yeast_k_mean = yeast_num_centered.copy()\n",
    "\n",
    "# Sum of square errors\n",
    "sse = {}\n",
    "for k in range(1, 15):\n",
    "    kmeans = KMeans(n_clusters=k, max_iter=1000, \n",
    "                    random_state = rand).fit(yeast_k_mean)\n",
    "    # Which cluster each row belongs to.\n",
    "    yeast_k_mean[\"cluster label\"] = kmeans.labels_\n",
    "    # Sum of square errors\n",
    "    sse[k] = kmeans.inertia_\n",
    "\n",
    "\n",
    "# Plot results\n",
    "plt.figure()\n",
    "plt.plot(list(sse.keys()), list(sse.values()))\n",
    "plt.xlabel(\"Number of cluster\")\n",
    "plt.ylabel(\"SSE\")\n",
    "\n",
    "# Using the elbow method k = 6 seemed like a good number of clusters\n",
    "k = 6\n",
    "kmeans = KMeans(n_clusters=k, max_iter=1000,\n",
    "               random_state = rand).fit(yeast_k_mean)\n",
    "# Which cluster each row belongs to.\n",
    "yeast_k_mean[\"cluster label\"] = kmeans.labels_\n"
   ]
  },
  {
   "cell_type": "markdown",
   "metadata": {},
   "source": [
    "Here we can see 6 is an appropriate number of clusters for this dataset.\n",
    "**Interaction pair generation**"
   ]
  },
  {
   "cell_type": "code",
   "execution_count": null,
   "metadata": {},
   "outputs": [],
   "source": [
    "# Copy the data set for interaction ar calculatons\n",
    "yeast_num_centered_inter = yeast_num_centered.copy()\n",
    "# Mutual info list\n",
    "mi_list = []\n",
    "# List of most accurate combinations of the num of k-nn and top n features\n",
    "top_accuracy = []\n",
    "# Blank data frame\n",
    "top_n_feat = pd.DataFrame()\n",
    "\n",
    "# Number of features before interaction pair\n",
    "num_feat = len(yeast_num_centered_inter.iloc[0,:])\n",
    "feature_index = 0\n",
    "\n",
    "\n",
    "# Generates all possible feature combinations\n",
    "for i in range(num_feat):\n",
    "    for j in range(i,num_feat):\n",
    "        # Multiplying the columns\n",
    "        yeast_num_centered_inter[\"feature \" + str(feature_index)] \\\n",
    "            = yeast_num_centered.iloc[:, i]*yeast_num_centered.iloc[:, j]\n",
    "        feature_index = feature_index + 1\n",
    "\n",
    "\n",
    "# Calcualte mutual info\n",
    "index=0\n",
    "for col in yeast_num_centered_inter.iloc[0,:]:\n",
    "    mi_list.append(\n",
    "        (mutual_info_score(yeast_num_centered_inter.iloc[:,index], \n",
    "                           yeast[\"Class\"]),index))\n",
    "    index = index + 1\n",
    "    \n",
    "    \n",
    "# Sort the list to find the highest levels of shared infomation with the class\n",
    "mi_list.sort(reverse = True)"
   ]
  },
  {
   "cell_type": "markdown",
   "metadata": {},
   "source": [
    "**Feature Selection for interaction pairs**"
   ]
  },
  {
   "cell_type": "code",
   "execution_count": null,
   "metadata": {},
   "outputs": [],
   "source": [
    "tot_num_feat = len(yeast_num_centered_inter.iloc[0,:])\n",
    "\n",
    "# This block calcuates severel different knn accuracies\n",
    "# based on different number of k-nn and top n mutual infomation features\n",
    "# for interaction pairs features\n",
    "\n",
    "max_iter = 15\n",
    "for knn_num in range(1, max_iter):\n",
    "    # Top n (1,15) features with highes MI\n",
    "    for top_n in range(1, max_iter):\n",
    "\n",
    "        i = 0\n",
    "        \n",
    "        # Creates a temp df to do the testing on, this gets overwritten each loop\n",
    "        for (mi, index) in mi_list:\n",
    "            i = i + 1\n",
    "            \n",
    "            top_n_feat[str(i)] = yeast_num_centered_inter.iloc[:,index]\n",
    "         \n",
    "            if i >= top_n:\n",
    "                break\n",
    "        # Train the data\n",
    "        X_train, X_test, y_train, y_test = train_test_split(top_n_feat, \n",
    "            target_values, test_size=1/3, random_state=rand)\n",
    "\n",
    "        # Create KNN classifier\n",
    "        knn = KNeighborsClassifier(n_neighbors = knn_num)\n",
    "        # Fit the classifier to the data\n",
    "        knn.fit(X_train,y_train)\n",
    "        # Evaluate the score and place on a list including other useful meta data\n",
    "        score = knn.score(X_test, y_test)*100\n",
    "        top_accuracy.append((score, top_n, knn_num))\n",
    "\n",
    "# Sort the accuracy by best results\n",
    "top_accuracy.sort(reverse = True)\n",
    "# Prints the best result\n",
    "(score,  top_n, knn_num) = top_accuracy[0]\n",
    "print(\"Prediction accuracy of \" + str(score) + \"%\")\n",
    "print(\"With a top number of features to select of\", top_n, \n",
    "      \"and number of nearest neighbours of\",knn_num)"
   ]
  },
  {
   "cell_type": "markdown",
   "metadata": {},
   "source": [
    "**Feature Selection for cluster feature**"
   ]
  },
  {
   "cell_type": "code",
   "execution_count": null,
   "metadata": {},
   "outputs": [],
   "source": [
    "# make a df for k means cluster deature\n",
    "yeast_num_centered_clust = yeast_num_centered.copy()\n",
    "yeast_num_centered_clust[\"F cluster labels\"] = yeast_k_mean[\"cluster label\"]"
   ]
  },
  {
   "cell_type": "markdown",
   "metadata": {},
   "source": [
    "**Mutual info using cluster label feature**"
   ]
  },
  {
   "cell_type": "code",
   "execution_count": null,
   "metadata": {},
   "outputs": [],
   "source": [
    "mi_list = []\n",
    "# Calcualte mutual info\n",
    "index = 0\n",
    "for col in yeast_num_centered_clust.iloc[0,:]:\n",
    "    mi_list.append(\n",
    "        (mutual_info_score(yeast_num_centered_clust.iloc[:,index], \n",
    "                           yeast[\"Class\"]),index))\n",
    "    index = index + 1\n",
    "# Sort it    \n",
    "mi_list.sort(reverse = True)"
   ]
  },
  {
   "cell_type": "markdown",
   "metadata": {},
   "source": [
    "**Accuracy of cluster label feature selection**"
   ]
  },
  {
   "cell_type": "code",
   "execution_count": null,
   "metadata": {},
   "outputs": [],
   "source": [
    "tot_num_feat = len(yeast_num_centered_clust.iloc[0,:])\n",
    "\n",
    "# This block calcuates severel different knn accuracies\n",
    "# based on different number of k-nn and top n mutual infomation features\n",
    "# for cluster label feature\n",
    "\n",
    "# Itterates through different knn numbers\n",
    "# 15 is used to keep computations quicker\n",
    "max_iter = 15\n",
    "for knn_num in range(1, max_iter):\n",
    "    \n",
    "    for top_n in range(1, max_iter):\n",
    "\n",
    "        i = 0\n",
    "        for (mi, index) in mi_list:\n",
    "            i = i + 1\n",
    "            top_n_feat[str(i)] = yeast_num_centered_clust.iloc[:,index]\n",
    "   \n",
    "            if i >= top_n:\n",
    "                break\n",
    "\n",
    "        X_train, X_test, y_train, y_test = train_test_split(top_n_feat, \n",
    "            target_values, test_size=1/3, random_state=rand)\n",
    "\n",
    "        # Create KNN classifier\n",
    "        knn = KNeighborsClassifier(n_neighbors = knn_num)\n",
    "        # Fit the classifier to the data\n",
    "        knn.fit(X_train,y_train)\n",
    "\n",
    "        score = knn.score(X_test, y_test)*100\n",
    "\n",
    "        top_accuracy.append((score, top_n, knn_num))\n",
    "\n",
    "        \n",
    "# Sorts and prints the top accuracy\n",
    "top_accuracy.sort(reverse = True)\n",
    "\n",
    "(score, top_n, knn_num) = top_accuracy[0]\n",
    "print(\"Accuracy of \" + str(score) + \"%\")\n",
    "print(\"With a top number of features to select of\", top_n, \n",
    "      \"and number of nearest neighbours of\",knn_num)\n"
   ]
  },
  {
   "cell_type": "markdown",
   "metadata": {},
   "source": [
    "**Which parameter values we selected**\n",
    "\n",
    "To determine our values we decided to brute force this problem and try all possible combinations of the number of features selected and the number of nearest neighbours to use in our k-NN analysis.\n",
    "\n",
    "This was achieveable due to the computaton complexity of the task being low considering the relativly small number of data points we dealt with.\n",
    "\n",
    "We found that multiple combinations of parameters could sometimes (depending on the random state) produce the same accuracy. With the random state seed of the program set to 792 (arbitiary value used for our analysis) we could achieve an accuracy of 70.7070% for both sets of anaysis (interaction pairs and clustering labels) using the top 14 mutal infomation features with the 2 nearest neighbours."
   ]
  },
  {
   "cell_type": "markdown",
   "metadata": {},
   "source": [
    "**Did feature selection and generation with interaction term pairs deliver an accuracy boost**\n",
    "\n",
    "Yes. In this random state and in general, interaction pair feature generation provided a signifiganct boost in accuracy. Before the feature generaton we achieved an accuracy of 68.2828% using k = 10 nearest neighbours and 66.66% accuracy for k = 5 nearest neighbours.\n",
    "\n",
    "After the feature selection and interaction term pairs an accuracy of 70.7070% was achieved, thus a 2.424% improvement was made."
   ]
  },
  {
   "cell_type": "markdown",
   "metadata": {},
   "source": [
    "**Did feature selection and clustering labels deliver an accuracy boost**\n",
    "\n",
    "Yes. As mentioned above both clustering labels and interaction term pairs delivered an accuracy boost of 2.424% in this particular random state and in general provided improvements in most random states. The same parameters produced the greatest accuracy in this analysis and since the best accuracy achieved was the same it can be suggested that the feature selcton played the biggest role in this performance improvement."
   ]
  }
 ],
 "metadata": {
  "kernelspec": {
   "display_name": "Python 3",
   "language": "python",
   "name": "python3"
  },
  "language_info": {
   "codemirror_mode": {
    "name": "ipython",
    "version": 3
   },
   "file_extension": ".py",
   "mimetype": "text/x-python",
   "name": "python",
   "nbconvert_exporter": "python",
   "pygments_lexer": "ipython3",
   "version": "3.7.4"
  }
 },
 "nbformat": 4,
 "nbformat_minor": 2
}
