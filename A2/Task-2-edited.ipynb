{
 "cells": [
  {
   "cell_type": "markdown",
   "metadata": {},
   "source": [
    "# Part 2 - Classification"
   ]
  },
  {
   "cell_type": "markdown",
   "metadata": {},
   "source": [
    "## Pre-processing"
   ]
  },
  {
   "cell_type": "code",
   "execution_count": 1,
   "metadata": {},
   "outputs": [],
   "source": [
    "# All imports\n",
    "import pandas as pd\n",
    "from sklearn import preprocessing\n",
    "from scipy.spatial import distance\n",
    "from sklearn.model_selection import train_test_split\n",
    "from sklearn.neighbors import KNeighborsClassifier\n",
    "from sklearn.tree import DecisionTreeClassifier\n",
    "from sklearn.metrics import mutual_info_score\n",
    "from sklearn.cluster import KMeans\n",
    "import matplotlib.pyplot as plt\n",
    "\n",
    "# Load data into dataframe\n",
    "yeast = pd.read_csv(\"all_yeast.csv\")"
   ]
  },
  {
   "cell_type": "code",
   "execution_count": 2,
   "metadata": {},
   "outputs": [],
   "source": [
    "def print_df_meta(col):\n",
    "\n",
    "    print(col_name)\n",
    "    print(\"Min:\", col.min())\n",
    "    print(\"Median:\", col.median())\n",
    "    print(\"Max:\", col.max())\n",
    "    print(\"Mean:\", col.mean())\n",
    "    print(\"Std:\", col.std())\n",
    "    print(\"\")"
   ]
  },
  {
   "cell_type": "markdown",
   "metadata": {},
   "source": [
    "### Impute missing values"
   ]
  },
  {
   "cell_type": "code",
   "execution_count": 3,
   "metadata": {},
   "outputs": [
    {
     "name": "stdout",
     "output_type": "stream",
     "text": [
      "mcg\n",
      "Min: 0.11\n",
      "Median: 0.48\n",
      "Max: 1.0\n",
      "Mean: 0.4976280323450134\n",
      "Std: 0.13147241947588034\n",
      "\n",
      "gvh\n",
      "Min: 0.13\n",
      "Median: 0.49\n",
      "Max: 1.0\n",
      "Mean: 0.49964285714285717\n",
      "Std: 0.12195449975147692\n",
      "\n",
      "alm\n",
      "Min: 0.21\n",
      "Median: 0.51\n",
      "Max: 7.501819407\n",
      "Mean: 0.5061669942095687\n",
      "Std: 0.19983967915330103\n",
      "\n",
      "mit\n",
      "Min: 0.0\n",
      "Median: 0.22\n",
      "Max: 3.000727763\n",
      "Mean: 0.2604317572526954\n",
      "Std: 0.15081686328857657\n",
      "\n",
      "erl\n",
      "Min: 0.5\n",
      "Median: 0.5\n",
      "Max: 3.500849057\n",
      "Mean: 0.5067391166152291\n",
      "Std: 0.09157974528810373\n",
      "\n",
      "vac\n",
      "Min: 0.0\n",
      "Median: 0.51\n",
      "Max: 6.001455526\n",
      "Mean: 0.5041990940202157\n",
      "Std: 0.15348798428400867\n",
      "\n",
      "nuc\n",
      "Min: 0.0\n",
      "Median: 0.22\n",
      "Max: 4.501091644\n",
      "Mean: 0.2767123259056604\n",
      "Std: 0.15231496275897186\n",
      "\n"
     ]
    }
   ],
   "source": [
    "# Interating through all columns\n",
    "for col_name in yeast:\n",
    "    \n",
    "    col = yeast[col_name]\n",
    "    \n",
    "    # If the column contains any null values then replace with the median\n",
    "    if col.isnull().values.any() == True:\n",
    "        yeast[col_name] = col.fillna(col.median())\n",
    "        print_df_meta(col)"
   ]
  },
  {
   "cell_type": "markdown",
   "metadata": {},
   "source": [
    "#### Choice of imputation method: \n",
    "The median imputation method is more suitable as it is not unaffected by skewed data as much as the mean imputation method."
   ]
  },
  {
   "cell_type": "markdown",
   "metadata": {},
   "source": [
    "### Scale the features"
   ]
  },
  {
   "cell_type": "markdown",
   "metadata": {},
   "source": [
    "#### 1) Mean centering"
   ]
  },
  {
   "cell_type": "code",
   "execution_count": 4,
   "metadata": {},
   "outputs": [
    {
     "name": "stdout",
     "output_type": "stream",
     "text": [
      "mcg\n",
      "Min: -0.38762803234501414\n",
      "Median: -0.017628032345014144\n",
      "Max: 0.5023719676549858\n",
      "Mean: -6.511712403192293e-16\n",
      "Std: 0.13147241947588034\n",
      "\n",
      "gvh\n",
      "Min: -0.3696428571428564\n",
      "Median: -0.009642857142856398\n",
      "Max: 0.5003571428571436\n",
      "Mean: 7.529167466191088e-16\n",
      "Std: 0.12195449975147692\n",
      "\n",
      "alm\n",
      "Min: -0.29616699420956816\n",
      "Median: 0.003833005790431887\n",
      "Max: 6.995652412790432\n",
      "Mean: 6.149618101360368e-16\n",
      "Std: 0.19983967915330103\n",
      "\n",
      "mit\n",
      "Min: -0.2604317572526965\n",
      "Median: -0.040431757252696515\n",
      "Max: 2.7402960057473034\n",
      "Mean: -1.0940634442128228e-15\n",
      "Std: 0.15081686328857657\n",
      "\n",
      "erl\n",
      "Min: -0.006739116615229079\n",
      "Median: -0.006739116615229079\n",
      "Max: 2.994109940384771\n",
      "Mean: 3.112215486819846e-17\n",
      "Std: 0.09157974528810373\n",
      "\n",
      "pox\n",
      "Min: -0.007500000000000001\n",
      "Median: -0.007500000000000001\n",
      "Max: 0.8225\n",
      "Mean: 5.985029782345858e-19\n",
      "Std: 0.07568266520506624\n",
      "\n",
      "vac\n",
      "Min: -0.5041990940202138\n",
      "Median: 0.0058009059797862195\n",
      "Max: 5.497256431979786\n",
      "Mean: 1.851020085935015e-15\n",
      "Std: 0.15348798428400867\n",
      "\n",
      "nuc\n",
      "Min: -0.276712325905665\n",
      "Median: -0.05671232590566502\n",
      "Max: 4.224379318094335\n",
      "Mean: -4.642587602165682e-15\n",
      "Std: 0.15231496275897188\n",
      "\n"
     ]
    }
   ],
   "source": [
    "# Extract all numerical data features\n",
    "yeast_num = yeast[['mcg','gvh','alm','mit','erl','pox','vac','nuc']]\n",
    "\n",
    "# Scaling by mean centering\n",
    "yeast_num_centered = yeast_num.subtract(yeast_num.mean())\n",
    "\n",
    "# Re-print the meta data showing the mean centered data \n",
    "for col_name in yeast_num_centered:\n",
    "    col = yeast_num_centered[col_name]\n",
    "    print_df_meta(col)"
   ]
  },
  {
   "cell_type": "markdown",
   "metadata": {},
   "source": [
    "#### 2) Standardisation"
   ]
  },
  {
   "cell_type": "code",
   "execution_count": 5,
   "metadata": {},
   "outputs": [
    {
     "name": "stdout",
     "output_type": "stream",
     "text": [
      "mcg\n",
      "Min: -2.9493539585714115\n",
      "Median: -0.13412679847755354\n",
      "Max: 3.822408669762463\n",
      "Mean: 5.338646565852505e-16\n",
      "Std: 1.000337097599327\n",
      "\n",
      "gvh\n",
      "Min: -3.032011640539163\n",
      "Median: -0.07909595584015233\n",
      "Max: 4.104201264150112\n",
      "Mean: -1.8194490538331406e-16\n",
      "Std: 1.000337097599327\n",
      "\n",
      "alm\n",
      "Min: -1.4825225533165736\n",
      "Median: 0.01918686971339724\n",
      "Max: 35.01812382843247\n",
      "Mean: 2.9925148911729286e-16\n",
      "Std: 1.0003370975993273\n",
      "\n",
      "mit\n",
      "Min: -1.7273900444035197\n",
      "Median: -0.26817549323786627\n",
      "Max: 18.17581730039812\n",
      "Mean: 8.618442886578034e-17\n",
      "Std: 1.0003370975993273\n",
      "\n",
      "erl\n",
      "Min: -0.07361221997346361\n",
      "Median: -0.07361221997346361\n",
      "Max: 32.70504016183221\n",
      "Mean: 3.806478941571965e-16\n",
      "Std: 1.0003370975993273\n",
      "\n",
      "pox\n",
      "Min: -0.09913139569895499\n",
      "Median: -0.09913139569895499\n",
      "Max: 10.87140972831873\n",
      "Mean: 4.788023825876686e-18\n",
      "Std: 1.000337097599327\n",
      "\n",
      "vac\n",
      "Min: -3.2860491371827933\n",
      "Median: 0.037806617099919906\n",
      "Max: 35.82762240039934\n",
      "Mean: -2.44189215119711e-16\n",
      "Std: 1.000337097599327\n",
      "\n",
      "nuc\n",
      "Min: -1.817323787187301\n",
      "Median: -0.3724613949080574\n",
      "Max: 27.743849124712487\n",
      "Mean: -2.5376526277146434e-16\n",
      "Std: 1.000337097599327\n",
      "\n"
     ]
    }
   ],
   "source": [
    "# Scale by Z score Standardisation\n",
    "scaler = preprocessing.StandardScaler()\n",
    "scaled_df = scaler.fit_transform(yeast_num)\n",
    "scaled_df = pd.DataFrame(scaled_df, columns=yeast_num.columns)\n",
    "\n",
    "# Print meta data\n",
    "for col_name in scaled_df:\n",
    "    col = scaled_df[col_name]\n",
    "    print_df_meta(col)"
   ]
  },
  {
   "cell_type": "markdown",
   "metadata": {},
   "source": [
    "#### Comparision:\n",
    "Prepare the test and training data"
   ]
  },
  {
   "cell_type": "code",
   "execution_count": 6,
   "metadata": {},
   "outputs": [],
   "source": [
    "# Replace traget values with boolean values\n",
    "target_values = yeast['Class']\n",
    "target_values = target_values.replace('CYT', 1)\n",
    "target_values = target_values.replace('non-CYT', 0)\\\n",
    "# Create random seed to be used throughout the program\n",
    "rand = 792\n",
    "\n",
    "#split dataset into train and test data\n",
    "X_train, X_test, y_train, y_test = train_test_split(yeast_num_centered, \n",
    "    target_values, test_size=1/3, random_state=rand)"
   ]
  },
  {
   "cell_type": "markdown",
   "metadata": {},
   "source": [
    "**K nearest neighbours for k = 5 neighbours**"
   ]
  },
  {
   "cell_type": "code",
   "execution_count": 7,
   "metadata": {},
   "outputs": [
    {
     "name": "stdout",
     "output_type": "stream",
     "text": [
      "Accuracy of 66.66666666666666%\n"
     ]
    }
   ],
   "source": [
    "# Create KNN classifier\n",
    "knn = KNeighborsClassifier(n_neighbors = 5)\n",
    "\n",
    "# Fit the classifier to the data\n",
    "knn.fit(X_train,y_train)\n",
    "\n",
    "# Print accuracy of k-nn for k = 5\n",
    "print(\"Accuracy of \" + str(knn.score(X_test, y_test)*100) + \"%\")"
   ]
  },
  {
   "cell_type": "markdown",
   "metadata": {},
   "source": [
    "**K nearest neighbours for k = 10 neighbours**"
   ]
  },
  {
   "cell_type": "code",
   "execution_count": 8,
   "metadata": {},
   "outputs": [
    {
     "name": "stdout",
     "output_type": "stream",
     "text": [
      "Accuracy of 68.28282828282828%\n"
     ]
    }
   ],
   "source": [
    "# Create KNN classifier\n",
    "knn = KNeighborsClassifier(n_neighbors = 10)\n",
    "# Fit the classifier to the data\n",
    "knn.fit(X_train,y_train)\n",
    "\n",
    "# Print accuracy of k-nn for k = 10\n",
    "print(\"Accuracy of \" + str(knn.score(X_test, y_test)*100) + \"%\")"
   ]
  },
  {
   "cell_type": "markdown",
   "metadata": {},
   "source": [
    "**Decision tree classifier**"
   ]
  },
  {
   "cell_type": "code",
   "execution_count": 9,
   "metadata": {},
   "outputs": [
    {
     "name": "stdout",
     "output_type": "stream",
     "text": [
      "Accuracy of 64.84848484848484%\n"
     ]
    }
   ],
   "source": [
    "# Create the classifier with rand state\n",
    "classifier = DecisionTreeClassifier(criterion=\"entropy\",\n",
    "                                   random_state=rand)\n",
    "# Fit the training data to the classifier\n",
    "classifier.fit(X_train, y_train)\n",
    "# Print accuracy of decision tree classifier\n",
    "print(\"Accuracy of \" + str(classifier.score(X_test, y_test)*100) + \"%\")"
   ]
  },
  {
   "cell_type": "markdown",
   "metadata": {},
   "source": [
    "### Feature Engineering\n",
    "**K-Means feature**"
   ]
  },
  {
   "cell_type": "code",
   "execution_count": 10,
   "metadata": {},
   "outputs": [
    {
     "data": {
      "image/png": "[encoded data removed]",
      "text/plain": [
       "<Figure size 432x288 with 1 Axes>"
      ]
     },
     "metadata": {
      "needs_background": "light"
     },
     "output_type": "display_data"
    }
   ],
   "source": [
    "# Performing kmeans for 1 to 15 clusters\n",
    "yeast_k_mean = yeast_num_centered.copy()\n",
    "\n",
    "# Sum of square errors\n",
    "sse = {}\n",
    "for k in range(1, 15):\n",
    "    kmeans = KMeans(n_clusters=k, max_iter=1000, \n",
    "                    random_state = rand).fit(yeast_k_mean)\n",
    "    # Which cluster each row belongs to.\n",
    "    yeast_k_mean[\"cluster label\"] = kmeans.labels_\n",
    "    # Sum of square errors\n",
    "    sse[k] = kmeans.inertia_\n",
    "\n",
    "\n",
    "# Plot results\n",
    "plt.figure()\n",
    "plt.plot(list(sse.keys()), list(sse.values()))\n",
    "plt.xlabel(\"Number of cluster\")\n",
    "plt.ylabel(\"SSE\")\n",
    "\n",
    "# Using the elbow method k = 6 seemed like a good number of clusters\n",
    "k = 6\n",
    "kmeans = KMeans(n_clusters=k, max_iter=1000,\n",
    "               random_state = rand).fit(yeast_k_mean)\n",
    "# Which cluster each row belongs to.\n",
    "yeast_k_mean[\"cluster label\"] = kmeans.labels_\n"
   ]
  },
  {
   "cell_type": "markdown",
   "metadata": {},
   "source": [
    "Here we can see 6 is an appropriate number of clusters for this dataset.\n",
    "**Interaction pair generation**"
   ]
  },
  {
   "cell_type": "code",
   "execution_count": 11,
   "metadata": {},
   "outputs": [],
   "source": [
    "# Copy the data set for interaction ar calculatons\n",
    "yeast_num_centered_inter = yeast_num_centered.copy()\n",
    "# Mutual info list\n",
    "mi_list = []\n",
    "# List of most accurate combinations of the num of k-nn and top n features\n",
    "top_accuracy = []\n",
    "# Blank data frame\n",
    "top_n_feat = pd.DataFrame()\n",
    "\n",
    "# Number of features before interaction pair\n",
    "num_feat = len(yeast_num_centered_inter.iloc[0,:])\n",
    "feature_index = 0\n",
    "\n",
    "\n",
    "# Generates all possible feature combinations\n",
    "for i in range(num_feat):\n",
    "    for j in range(i,num_feat):\n",
    "        # Multiplying the columns\n",
    "        yeast_num_centered_inter[\"feature \" + str(feature_index)] \\\n",
    "            = yeast_num_centered.iloc[:, i]*yeast_num_centered.iloc[:, j]\n",
    "        feature_index = feature_index + 1\n",
    "\n",
    "\n",
    "# Calcualte mutual info\n",
    "index=0\n",
    "for col in yeast_num_centered_inter.iloc[0,:]:\n",
    "    mi_list.append(\n",
    "        (mutual_info_score(yeast_num_centered_inter.iloc[:,index], \n",
    "                           yeast[\"Class\"]),index))\n",
    "    index = index + 1\n",
    "    \n",
    "    \n",
    "# Sort the list to find the highest levels of shared infomation with the class\n",
    "mi_list.sort(reverse = True)"
   ]
  },
  {
   "cell_type": "markdown",
   "metadata": {},
   "source": [
    "**Feature Selection for interaction pairs**"
   ]
  },
  {
   "cell_type": "code",
   "execution_count": 12,
   "metadata": {},
   "outputs": [
    {
     "name": "stdout",
     "output_type": "stream",
     "text": [
      "Prediction accuracy of 70.70707070707071%\n",
      "With a top number of features to select of 14 and number of nearest neighbours of 2\n"
     ]
    }
   ],
   "source": [
    "tot_num_feat = len(yeast_num_centered_inter.iloc[0,:])\n",
    "\n",
    "# This block calcuates severel different knn accuracies\n",
    "# based on different number of k-nn and top n mutual infomation features\n",
    "# for interaction pairs features\n",
    "\n",
    "max_iter = 15\n",
    "for knn_num in range(1, max_iter):\n",
    "    # Top n (1,15) features with highes MI\n",
    "    for top_n in range(1, max_iter):\n",
    "\n",
    "        i = 0\n",
    "        \n",
    "        # Creates a temp df to do the testing on, this gets overwritten each loop\n",
    "        for (mi, index) in mi_list:\n",
    "            i = i + 1\n",
    "            \n",
    "            top_n_feat[str(i)] = yeast_num_centered_inter.iloc[:,index]\n",
    "         \n",
    "            if i >= top_n:\n",
    "                break\n",
    "        # Train the data\n",
    "        X_train, X_test, y_train, y_test = train_test_split(top_n_feat, \n",
    "            target_values, test_size=1/3, random_state=rand)\n",
    "\n",
    "        # Create KNN classifier\n",
    "        knn = KNeighborsClassifier(n_neighbors = knn_num)\n",
    "        # Fit the classifier to the data\n",
    "        knn.fit(X_train,y_train)\n",
    "        # Evaluate the score and place on a list including other useful meta data\n",
    "        score = knn.score(X_test, y_test)*100\n",
    "        top_accuracy.append((score, top_n, knn_num))\n",
    "\n",
    "# Sort the accuracy by best results\n",
    "top_accuracy.sort(reverse = True)\n",
    "# Prints the best result\n",
    "(score,  top_n, knn_num) = top_accuracy[0]\n",
    "print(\"Prediction accuracy of \" + str(score) + \"%\")\n",
    "print(\"With a top number of features to select of\", top_n, \n",
    "      \"and number of nearest neighbours of\",knn_num)"
   ]
  },
  {
   "cell_type": "markdown",
   "metadata": {},
   "source": [
    "**Feature Selection for cluster feature**"
   ]
  },
  {
   "cell_type": "code",
   "execution_count": 13,
   "metadata": {},
   "outputs": [],
   "source": [
    "# make a df for k means cluster deature\n",
    "yeast_num_centered_clust = yeast_num_centered.copy()\n",
    "yeast_num_centered_clust[\"F cluster labels\"] = yeast_k_mean[\"cluster label\"]"
   ]
  },
  {
   "cell_type": "markdown",
   "metadata": {},
   "source": [
    "**Mutual info using cluster label feature**"
   ]
  },
  {
   "cell_type": "code",
   "execution_count": 14,
   "metadata": {},
   "outputs": [],
   "source": [
    "mi_list = []\n",
    "# Calcualte mutual info\n",
    "index = 0\n",
    "for col in yeast_num_centered_clust.iloc[0,:]:\n",
    "    mi_list.append(\n",
    "        (mutual_info_score(yeast_num_centered_clust.iloc[:,index], \n",
    "                           yeast[\"Class\"]),index))\n",
    "    index = index + 1\n",
    "# Sort it    \n",
    "mi_list.sort(reverse = True)"
   ]
  },
  {
   "cell_type": "markdown",
   "metadata": {},
   "source": [
    "**Accuracy of cluster label feature selection**"
   ]
  },
  {
   "cell_type": "code",
   "execution_count": 15,
   "metadata": {},
   "outputs": [
    {
     "name": "stdout",
     "output_type": "stream",
     "text": [
      "Accuracy of 70.70707070707071%\n",
      "With a top number of features to select of 14 and number of nearest neighbours of 2\n"
     ]
    }
   ],
   "source": [
    "tot_num_feat = len(yeast_num_centered_clust.iloc[0,:])\n",
    "\n",
    "# This block calcuates severel different knn accuracies\n",
    "# based on different number of k-nn and top n mutual infomation features\n",
    "# for cluster label feature\n",
    "\n",
    "# Itterates through different knn numbers\n",
    "# 15 is used to keep computations quicker\n",
    "max_iter = 15\n",
    "for knn_num in range(1, max_iter):\n",
    "    \n",
    "    for top_n in range(1, max_iter):\n",
    "\n",
    "        i = 0\n",
    "        for (mi, index) in mi_list:\n",
    "            i = i + 1\n",
    "            top_n_feat[str(i)] = yeast_num_centered_clust.iloc[:,index]\n",
    "   \n",
    "            if i >= top_n:\n",
    "                break\n",
    "\n",
    "        X_train, X_test, y_train, y_test = train_test_split(top_n_feat, \n",
    "            target_values, test_size=1/3, random_state=rand)\n",
    "\n",
    "        # Create KNN classifier\n",
    "        knn = KNeighborsClassifier(n_neighbors = knn_num)\n",
    "        # Fit the classifier to the data\n",
    "        knn.fit(X_train,y_train)\n",
    "\n",
    "        score = knn.score(X_test, y_test)*100\n",
    "\n",
    "        top_accuracy.append((score, top_n, knn_num))\n",
    "\n",
    "        \n",
    "# Sorts and prints the top accuracy\n",
    "top_accuracy.sort(reverse = True)\n",
    "\n",
    "(score, top_n, knn_num) = top_accuracy[0]\n",
    "print(\"Accuracy of \" + str(score) + \"%\")\n",
    "print(\"With a top number of features to select of\", top_n, \n",
    "      \"and number of nearest neighbours of\",knn_num)\n"
   ]
  },
  {
   "cell_type": "markdown",
   "metadata": {},
   "source": [
    "**Which parameter values we selected**\n",
    "To determine our values we decided to brute force this problem and try all possible combinations of the number of features selected and the number of nearest neighbours to use in our knn analysis.\n",
    "\n",
    "This was achieveable due to the computaton complexity of the task being low considering the relativly small number of data points we dealt with.\n",
    "\n",
    "We found that multiple combinations of parameters could sometimes (depending on the random state) produce the same accuracy. With the random state seed of the program set to 792 (arbitiary value used for our analysis) we could achieve an accuracy of 70.7070% for both sets of anaysis (interaction pairs and clustering labels) using the top 14 mutal infomation features with the 2 nearest neighbours."
   ]
  },
  {
   "cell_type": "markdown",
   "metadata": {},
   "source": [
    "**Did feature selection and generation with interaction term pairs deliver an accuracy boost**\n",
    "Yes. In this random state and in general, interaction pair feature generation provided a signifiganct boost in accuracy. Before the feature generaton we achieved an accuracy of 68.2828% using k = 10 nearest neighbours and 66.66% accuracy for k = 5 nearest neighbours.\n",
    "\n",
    "After the feature selection and interaction term pairs an accuracy of 70.7070% was achieved, thus a 2.424% improvement was made."
   ]
  },
  {
   "cell_type": "markdown",
   "metadata": {},
   "source": [
    "**Did feature selection and clustering labels deliver an accuracy boost**\n",
    "Yes. As mentioned above both clustering labels and interaction term pairs delivered an accuracy boost of 2.424% in this particular random state and in general provided improvements in most random states. The same parameters produced the greatest accuracy in this analysis and since the best accuracy achieved was the same it can be suggested that the feature selcton played the biggest role in this performance improvement."
   ]
  }
 ],
 "metadata": {
  "kernelspec": {
   "display_name": "Python 3",
   "language": "python",
   "name": "python3"
  },
  "language_info": {
   "codemirror_mode": {
    "name": "ipython",
    "version": 3
   },
   "file_extension": ".py",
   "mimetype": "text/x-python",
   "name": "python",
   "nbconvert_exporter": "python",
   "pygments_lexer": "ipython3",
   "version": "3.7.4"
  }
 },
 "nbformat": 4,
 "nbformat_minor": 2
}
